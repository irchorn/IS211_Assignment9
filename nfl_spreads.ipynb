{
  "nbformat": 4,
  "nbformat_minor": 0,
  "metadata": {
    "colab": {
      "name": "nfl_spreads",
      "provenance": [],
      "collapsed_sections": [],
      "authorship_tag": "ABX9TyMxpKen9xnoRw1Xcu10T8et",
      "include_colab_link": true
    },
    "kernelspec": {
      "name": "python3",
      "display_name": "Python 3"
    },
    "language_info": {
      "name": "python"
    }
  },
  "cells": [
    {
      "cell_type": "markdown",
      "metadata": {
        "id": "view-in-github",
        "colab_type": "text"
      },
      "source": [
        "<a href=\"https://colab.research.google.com/github/irchorn/IS211_Assignment9/blob/main/nfl_spreads.ipynb\" target=\"_parent\"><img src=\"https://colab.research.google.com/assets/colab-badge.svg\" alt=\"Open In Colab\"/></a>"
      ]
    },
    {
      "cell_type": "code",
      "metadata": {
        "colab": {
          "base_uri": "https://localhost:8080/"
        },
        "id": "U8aZliAfWZYZ",
        "outputId": "de68fb4c-dc00-495b-8895-097c96d4a96f"
      },
      "source": [
        "import requests\n",
        "from bs4 import BeautifulSoup\n",
        "\n",
        "URL = \"http://www.footballlocks.com/nfl_point_spreads.shtml\"\n",
        "\n",
        "\n",
        "def main():\n",
        "    response = requests.get(URL)\n",
        "    soup = BeautifulSoup(response.text, features=\"lxml\")\n",
        "\n",
        "    # Specify details of the table I want\n",
        "    tables = soup.find_all('table', cols=\"4\", width=\"580\")\n",
        "    print(f\"How many tables? {len(tables)}\")\n",
        "\n",
        "    # find all the rows in that table\n",
        "    rows = tables[0].find_all(\"tr\")\n",
        "\n",
        "    # Print the spreads\n",
        "    header = True\n",
        "    for row in rows:\n",
        "        cells = row.find_all(\"td\")\n",
        "        if header:\n",
        "            header = False\n",
        "            continue\n",
        "\n",
        "        favorite = cells[1].text.replace(\"At \", \"\")\n",
        "        underdog = cells[3].text.replace(\"At \", \"\")\n",
        "        spread = float(cells[2].text)\n",
        "        print(f\"Favorite = {favorite}, Underdog = {underdog}, Spread = {spread}\")\n",
        "\n",
        "\n",
        "if __name__ == \"__main__\":\n",
        "    main()\n"
      ],
      "execution_count": 1,
      "outputs": [
        {
          "output_type": "stream",
          "text": [
            "How many tables? 1\n",
            "Favorite = Washington, Underdog = Philadelphia, Spread = -6.0\n",
            "Favorite = Indianapolis, Underdog = Jacksonville, Spread = -15.0\n",
            "Favorite = Green Bay, Underdog = Chicago, Spread = -4.0\n",
            "Favorite = Dallas, Underdog = NY Giants, Spread = -1.5\n",
            "Favorite = Cleveland, Underdog = Pittsburgh, Spread = -10.0\n",
            "Favorite = Tennessee, Underdog = Houston, Spread = -7.0\n",
            "Favorite = New Orleans, Underdog = Carolina, Spread = -6.0\n",
            "Favorite = New England, Underdog = NY Jets, Spread = -3.0\n",
            "Favorite = Minnesota, Underdog = Detroit, Spread = -3.0\n",
            "Favorite = Tampa Bay, Underdog = Atlanta, Spread = -7.0\n",
            "Favorite = Baltimore, Underdog = Cincinnati, Spread = -13.5\n",
            "Favorite = Miami, Underdog = Buffalo, Spread = -2.0\n",
            "Favorite = LA Chargers, Underdog = Kansas City, Spread = -5.5\n",
            "Favorite = Seattle, Underdog = San Francisco, Spread = -7.0\n",
            "Favorite = Las Vegas, Underdog = Denver, Spread = -2.5\n",
            "Favorite = Arizona, Underdog = LA Rams, Spread = -1.0\n"
          ],
          "name": "stdout"
        }
      ]
    }
  ]
}